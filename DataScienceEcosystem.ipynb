{
  "nbformat": 4,
  "nbformat_minor": 0,
  "metadata": {
    "colab": {
      "provenance": []
    },
    "kernelspec": {
      "name": "python3",
      "display_name": "Python 3"
    },
    "language_info": {
      "name": "python"
    }
  },
  "cells": [
    {
      "cell_type": "markdown",
      "source": [
        "# Data Science Tools and Ecosystem"
      ],
      "metadata": {
        "id": "FdtmMcrULuVr"
      }
    },
    {
      "cell_type": "markdown",
      "source": [
        "In this notebook, Data Science Tools and Ecosystem are summarized."
      ],
      "metadata": {
        "id": "vmvhRT-CMUrJ"
      }
    },
    {
      "cell_type": "markdown",
      "source": [
        "Some of the popular languages that Data Scientists use are:\n",
        "1. Python\n",
        "2. Java\n",
        "3. SQL\n",
        "4. Julia\n",
        "5. Scala\n",
        "6. R"
      ],
      "metadata": {
        "id": "UKJfozG-NCbg"
      }
    },
    {
      "cell_type": "markdown",
      "source": [
        "Some of the commonly used libraries used by Data Scientists include:\n",
        "1. scikit-learn\n",
        "2. PyTorch\n",
        "3. Pandas\n",
        "4. TensorFlow"
      ],
      "metadata": {
        "id": "jX1K0pUkNxAA"
      }
    },
    {
      "cell_type": "markdown",
      "source": [
        "| Data Science Tools|\n",
        "|-----------------------|\n",
        "| Rstudio|\n",
        "| VSCode|\n",
        "|Jupyter Notebook|"
      ],
      "metadata": {
        "id": "kxmzPmMuOSvw"
      }
    },
    {
      "cell_type": "markdown",
      "source": [
        "###Below are a few examples of evaluating arithmetic expressions in Python"
      ],
      "metadata": {
        "id": "wupCHBprPuuh"
      }
    },
    {
      "cell_type": "code",
      "source": [
        "#This a simple artihemetic expression to multiply then add integers\n",
        "print((3*4)+5)"
      ],
      "metadata": {
        "colab": {
          "base_uri": "https://localhost:8080/"
        },
        "id": "EuGV-kDjZdDG",
        "outputId": "8df0cc15-cfb6-42e9-b80c-01718d3a6493"
      },
      "execution_count": 3,
      "outputs": [
        {
          "output_type": "stream",
          "name": "stdout",
          "text": [
            "17\n"
          ]
        }
      ]
    },
    {
      "cell_type": "code",
      "source": [
        "# This will convert 200 minutes to hours by diving by 60\n",
        "print(200/60,\"hours\")"
      ],
      "metadata": {
        "colab": {
          "base_uri": "https://localhost:8080/"
        },
        "id": "hajsL-9qcPmw",
        "outputId": "9fa39331-301b-4b18-c050-3d70c5095c20"
      },
      "execution_count": 5,
      "outputs": [
        {
          "output_type": "stream",
          "name": "stdout",
          "text": [
            "3.3333333333333335 hours\n"
          ]
        }
      ]
    },
    {
      "cell_type": "markdown",
      "source": [
        "**Objectives:**\n",
        "\n",
        "\n",
        "*    List of popular languages that Data Scientists Use\n",
        "*    List of Commonly Used Libraries\n",
        "*    Simple Arithmetic Equations\n",
        "*    List of Data Science Tools\n",
        "\n"
      ],
      "metadata": {
        "id": "6YTT-YNoddzO"
      }
    },
    {
      "cell_type": "markdown",
      "source": [
        "##Author\n",
        "Savian Elam"
      ],
      "metadata": {
        "id": "4DbKk7PGfTy-"
      }
    }
  ]
}